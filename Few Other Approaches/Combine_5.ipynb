{
 "cells": [
  {
   "cell_type": "code",
   "execution_count": null,
   "id": "f0e03637",
   "metadata": {},
   "outputs": [],
   "source": [
    "import pandas as pd\n",
    "from sklearn.metrics import mean_squared_error\n",
    "\n",
    "# === 1. Load prediction files ===\n",
    "xgb_pred = pd.read_csv('xgb_imputation_2.csv')\n",
    "hist_pred = pd.read_csv('hist_imputation_2_c.csv')\n",
    "baye_pred = pd.read_csv('bayesianridge_imputation.csv')\n",
    "cat_pred = pd.read_csv('catboost_imputation.csv')\n",
    "lgbm_pred = pd.read_csv('lightgbm_imputation.csv')\n",
    "\n",
    "# === 2. Set blending weights (adjust as desired) ===\n",
    "weight_xgb = 0.3\n",
    "weight_hist = 0.3\n",
    "weight_baye = 0.1\n",
    "weight_cat = 0.2\n",
    "weight_lgbm = 0.1\n",
    "\n",
    "# === 3. Identify target columns (excluding 'timestamp') ===\n",
    "target_columns = [col for col in xgb_pred.columns if col != 'timestamp']\n",
    "\n",
    "# === 4. Blend predictions ===\n",
    "blended = xgb_pred.copy()\n",
    "for col in target_columns:\n",
    "    blended[col] = (\n",
    "        weight_xgb * xgb_pred[col] +\n",
    "        weight_hist * hist_pred[col] +\n",
    "        weight_baye * baye_pred[col] +\n",
    "        weight_cat * cat_pred[col] +\n",
    "        weight_lgbm * lgbm_pred[col]\n",
    "    )\n",
    "\n",
    "# === 5. Save blended predictions ===\n",
    "blended.to_csv('Combining_5_3.csv', index=False)\n",
    "print(\"Blended predictions saved as 'blended_predictions.csv'.\")\n"
   ]
  }
 ],
 "metadata": {
  "kernelspec": {
   "display_name": "Python 3",
   "language": "python",
   "name": "python3"
  },
  "language_info": {
   "codemirror_mode": {
    "name": "ipython",
    "version": 3
   },
   "file_extension": ".py",
   "mimetype": "text/x-python",
   "name": "python",
   "nbconvert_exporter": "python",
   "pygments_lexer": "ipython3",
   "version": "3.12.2"
  }
 },
 "nbformat": 4,
 "nbformat_minor": 5
}
