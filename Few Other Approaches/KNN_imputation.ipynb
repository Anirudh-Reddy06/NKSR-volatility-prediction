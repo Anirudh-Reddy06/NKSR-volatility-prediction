{
 "cells": [
  {
   "cell_type": "code",
   "execution_count": 3,
   "id": "8575788f",
   "metadata": {},
   "outputs": [
    {
     "name": "stdout",
     "output_type": "stream",
     "text": [
      "KNN imputation (test data only) saved to 'knn_imputation_test_only.csv'.\n"
     ]
    }
   ],
   "source": [
    "import pandas as pd\n",
    "import numpy as np\n",
    "from sklearn.impute import KNNImputer\n",
    "\n",
    "# Load your test data and sample submission\n",
    "test = pd.read_parquet('test_data.parquet')\n",
    "sample_submission = pd.read_csv('sample_submission.csv')\n",
    "\n",
    "# Use only columns in the sample submission and present in test\n",
    "target_columns = [col for col in sample_submission.columns if col != 'timestamp' and col in test.columns]\n",
    "submission = sample_submission.copy()\n",
    "for col in target_columns:\n",
    "    submission[col] = test[col]\n",
    "\n",
    "# Prepare data for imputation (only target columns, but you can add features if present)\n",
    "impute_cols = target_columns  # Add more columns if you want to use extra features\n",
    "impute_data = submission[impute_cols].copy()\n",
    "\n",
    "# KNN Imputer\n",
    "imputer = KNNImputer(n_neighbors=35, weights=\"uniform\")  # n_neighbors can be tuned\n",
    "imputed = imputer.fit_transform(impute_data)\n",
    "\n",
    "# Fill back the imputed values only where they were missing\n",
    "for i, col in enumerate(impute_cols):\n",
    "    mask = submission[col].isna()\n",
    "    submission.loc[mask, col] = imputed[:, i][mask.values]\n",
    "\n",
    "# Ensure timestamp is correct\n",
    "if 'timestamp' in sample_submission.columns and 'timestamp' in test.columns:\n",
    "    submission['timestamp'] = test['timestamp'].values\n",
    "\n",
    "# Save the imputed test data\n",
    "submission.to_csv('knn_imputation_n35.csv', index=False)\n",
    "print(\"KNN imputation (test data only) saved to 'knn_imputation_test_only.csv'.\")\n"
   ]
  }
 ],
 "metadata": {
  "kernelspec": {
   "display_name": "Python 3",
   "language": "python",
   "name": "python3"
  },
  "language_info": {
   "codemirror_mode": {
    "name": "ipython",
    "version": 3
   },
   "file_extension": ".py",
   "mimetype": "text/x-python",
   "name": "python",
   "nbconvert_exporter": "python",
   "pygments_lexer": "ipython3",
   "version": "3.12.2"
  }
 },
 "nbformat": 4,
 "nbformat_minor": 5
}
